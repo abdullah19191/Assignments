{
 "cells": [
  {
   "cell_type": "markdown",
   "id": "6277868c",
   "metadata": {},
   "source": [
    "# Scraping Data \n",
    "\n",
    "###  Two ecommerce Amazon & Daraz Sites \n",
    "- Digital Camera (Black) is common product\n",
    "\n",
    "###  Selenium library used for web scraping from above two e-commerce websites\n",
    "- scraping e-commerce sites with dynamic content, interactive elements, or user authentication, Selenium is a suitable choice hence beautifulsoup is not choosen"
   ]
  },
  {
   "cell_type": "code",
   "execution_count": 1,
   "id": "26ebc5fd",
   "metadata": {},
   "outputs": [],
   "source": [
    "from selenium import webdriver\n",
    "from selenium.webdriver.common.by import By\n",
    "import pandas as pd"
   ]
  },
  {
   "cell_type": "code",
   "execution_count": 2,
   "id": "3cc2e58b",
   "metadata": {},
   "outputs": [],
   "source": [
    "driver = webdriver.Chrome()"
   ]
  },
  {
   "cell_type": "code",
   "execution_count": 3,
   "id": "d45f88fb",
   "metadata": {},
   "outputs": [],
   "source": [
    "amazon_url = 'https://www.amazon.com/'\n",
    "driver.get(amazon_url)\n",
    "driver.maximize_window()"
   ]
  },
  {
   "cell_type": "code",
   "execution_count": 4,
   "id": "d4e1128d",
   "metadata": {},
   "outputs": [],
   "source": [
    "amazon_input_search = driver.find_element(By.ID,'twotabsearchtextbox')\n",
    "amazon_input_search.clear()\n",
    "amazon_search_btn = driver.find_element(By.XPATH,\"(//input[@type='submit'])[1]\")"
   ]
  },
  {
   "cell_type": "code",
   "execution_count": 5,
   "id": "1850f755",
   "metadata": {},
   "outputs": [],
   "source": [
    "amazon_input_search.send_keys(\"Sony DSC-W800 20.1 MP Digital Camera (Black)\")\n",
    "amazon_search_btn.click()"
   ]
  },
  {
   "cell_type": "code",
   "execution_count": 6,
   "id": "4854db76",
   "metadata": {},
   "outputs": [],
   "source": [
    "amazon_product_link = driver.find_element(By.XPATH , \"(//*[@class='a-size-medium a-color-base a-text-normal'])[1]\").click()"
   ]
  },
  {
   "cell_type": "code",
   "execution_count": 7,
   "id": "60f3d7ff",
   "metadata": {},
   "outputs": [],
   "source": [
    "product_name_amazon  =  driver.find_element(By.XPATH , \"//span[@id='productTitle']\").text\n",
    "product_price_amazon  = driver.find_element(By.XPATH , \"//span[@class='a-price-whole']\").text \n",
    "product_amazon_rating = driver.find_element(By.ID , 'acrCustomerReviewText').text"
   ]
  },
  {
   "cell_type": "code",
   "execution_count": 8,
   "id": "c8b5de1f",
   "metadata": {},
   "outputs": [],
   "source": [
    "daraz_url = 'https://www.daraz.pk/'\n",
    "driver.get(daraz_url)"
   ]
  },
  {
   "cell_type": "code",
   "execution_count": 9,
   "id": "598e762c",
   "metadata": {},
   "outputs": [],
   "source": [
    "daraz_input_search = driver.find_element(By.CLASS_NAME,'search-box__input--O34g')\n",
    "daraz_input_search.clear()\n",
    "daraz_search_btn = driver.find_element(By.CLASS_NAME,'search-box__button--1oH7')"
   ]
  },
  {
   "cell_type": "code",
   "execution_count": 10,
   "id": "e8e59b95",
   "metadata": {},
   "outputs": [],
   "source": [
    "daraz_input_search.send_keys(\"Sony DSC-W800 20.1 MP Digital Camera (Black)\")\n",
    "daraz_search_btn.click()"
   ]
  },
  {
   "cell_type": "code",
   "execution_count": 11,
   "id": "a36cee44",
   "metadata": {},
   "outputs": [],
   "source": [
    "daraz_product_link = driver.find_element(By.ID , 'id-a-link').click()"
   ]
  },
  {
   "cell_type": "code",
   "execution_count": 12,
   "id": "9913afc1",
   "metadata": {},
   "outputs": [],
   "source": [
    "product_name_daraz  =  driver.find_element(By.CLASS_NAME , \"pdp-mod-product-badge-title\").text\n",
    "product_price_daraz  = driver.find_element(By.XPATH , \"//span[@class=' pdp-price pdp-price_type_normal pdp-price_color_orange pdp-price_size_xl']\").text\n",
    "product_rating_daraz = driver.find_element(By.LINK_TEXT , 'No Ratings').text"
   ]
  },
  {
   "cell_type": "code",
   "execution_count": 13,
   "id": "b332cf11",
   "metadata": {},
   "outputs": [
    {
     "name": "stdout",
     "output_type": "stream",
     "text": [
      "Amazon Product Name: Sony Cyber-Shot DSC-W800 Digital Camera (Black)\n",
      "Amazon Product Price: $ 170\n",
      "Amazon Product Rating: 220 ratings\n",
      "Daraz Product Name: Sony DSC-W800 20.1 MP Digital Camera (Black)\n",
      "Daraz Product Price: RS Rs. 25,000\n",
      "Daraz Product Rating: No Ratings\n"
     ]
    }
   ],
   "source": [
    "print(\"Amazon Product Name:\", product_name_amazon)\n",
    "print(\"Amazon Product Price: $\",product_price_amazon)\n",
    "print(\"Amazon Product Rating:\",product_amazon_rating)\n",
    "\n",
    "print(\"Daraz Product Name:\", product_name_daraz)\n",
    "print(\"Daraz Product Price: RS\",product_price_daraz)\n",
    "print(\"Daraz Product Rating:\", product_rating_daraz)"
   ]
  },
  {
   "cell_type": "markdown",
   "id": "8abe3c05",
   "metadata": {},
   "source": [
    "### Script to Clean Data using Pandas\n",
    "#### As there is data of two hence data cleaning is not required if there is more data we would utilize\n",
    "- We would remove duplicates from th dataframe\n",
    "- We would would place Nan if there were empty values\n",
    "- Code is given at end if there are hundred's of data "
   ]
  },
  {
   "cell_type": "code",
   "execution_count": 14,
   "id": "828bb669",
   "metadata": {},
   "outputs": [],
   "source": [
    "data = {\n",
    "    'Website': ['Amazon', 'Daraz'],\n",
    "    'Product Name': [product_name_amazon, product_name_daraz],\n",
    "    'Product Price': [product_price_amazon, product_price_daraz],\n",
    "    'Product Rating': [product_amazon_rating,product_rating_daraz]\n",
    "\n",
    "}"
   ]
  },
  {
   "cell_type": "code",
   "execution_count": 15,
   "id": "4dec6d5e",
   "metadata": {},
   "outputs": [],
   "source": [
    "df = pd.DataFrame(data)"
   ]
  },
  {
   "cell_type": "code",
   "execution_count": 16,
   "id": "af38cfaa",
   "metadata": {},
   "outputs": [
    {
     "data": {
      "text/html": [
       "<div>\n",
       "<style scoped>\n",
       "    .dataframe tbody tr th:only-of-type {\n",
       "        vertical-align: middle;\n",
       "    }\n",
       "\n",
       "    .dataframe tbody tr th {\n",
       "        vertical-align: top;\n",
       "    }\n",
       "\n",
       "    .dataframe thead th {\n",
       "        text-align: right;\n",
       "    }\n",
       "</style>\n",
       "<table border=\"1\" class=\"dataframe\">\n",
       "  <thead>\n",
       "    <tr style=\"text-align: right;\">\n",
       "      <th></th>\n",
       "      <th>Website</th>\n",
       "      <th>Product Name</th>\n",
       "      <th>Product Price</th>\n",
       "      <th>Product Rating</th>\n",
       "    </tr>\n",
       "  </thead>\n",
       "  <tbody>\n",
       "    <tr>\n",
       "      <th>0</th>\n",
       "      <td>Amazon</td>\n",
       "      <td>Sony Cyber-Shot DSC-W800 Digital Camera (Black)</td>\n",
       "      <td>170</td>\n",
       "      <td>220 ratings</td>\n",
       "    </tr>\n",
       "    <tr>\n",
       "      <th>1</th>\n",
       "      <td>Daraz</td>\n",
       "      <td>Sony DSC-W800 20.1 MP Digital Camera (Black)</td>\n",
       "      <td>Rs. 25,000</td>\n",
       "      <td>No Ratings</td>\n",
       "    </tr>\n",
       "  </tbody>\n",
       "</table>\n",
       "</div>"
      ],
      "text/plain": [
       "  Website                                     Product Name Product Price  \\\n",
       "0  Amazon  Sony Cyber-Shot DSC-W800 Digital Camera (Black)           170   \n",
       "1   Daraz     Sony DSC-W800 20.1 MP Digital Camera (Black)    Rs. 25,000   \n",
       "\n",
       "  Product Rating  \n",
       "0    220 ratings  \n",
       "1     No Ratings  "
      ]
     },
     "execution_count": 16,
     "metadata": {},
     "output_type": "execute_result"
    }
   ],
   "source": [
    "df"
   ]
  },
  {
   "cell_type": "markdown",
   "id": "1bad67dc",
   "metadata": {},
   "source": [
    "### Comparision of Prices and Recommendig a Website\n",
    "- Converting USD to PKR for Amazon product\n",
    "- Comparing both products with ratings and Prize"
   ]
  },
  {
   "cell_type": "code",
   "execution_count": 17,
   "id": "23927c8c",
   "metadata": {
    "scrolled": true
   },
   "outputs": [
    {
     "name": "stdout",
     "output_type": "stream",
     "text": [
      "Amazon Product Name: Sony Cyber-Shot DSC-W800 Digital Camera (Black)\n",
      "Amazon Product Price (USD): $ 170.0\n",
      "Amazon Product Price (PKR): RS 47424.9\n"
     ]
    }
   ],
   "source": [
    "usd_to_pkr_exchange_rate = 278.97\n",
    "product_price_amazon = float(product_price_amazon)\n",
    "amazon_price_pkr = product_price_amazon * usd_to_pkr_exchange_rate\n",
    "# Print Amazon product details\n",
    "print(\"Amazon Product Name:\", product_name_amazon)\n",
    "print(\"Amazon Product Price (USD): $\", product_price_amazon)\n",
    "print(\"Amazon Product Price (PKR): RS\",amazon_price_pkr )"
   ]
  },
  {
   "cell_type": "code",
   "execution_count": 18,
   "id": "1d3e79cb",
   "metadata": {},
   "outputs": [
    {
     "data": {
      "text/html": [
       "<div>\n",
       "<style scoped>\n",
       "    .dataframe tbody tr th:only-of-type {\n",
       "        vertical-align: middle;\n",
       "    }\n",
       "\n",
       "    .dataframe tbody tr th {\n",
       "        vertical-align: top;\n",
       "    }\n",
       "\n",
       "    .dataframe thead th {\n",
       "        text-align: right;\n",
       "    }\n",
       "</style>\n",
       "<table border=\"1\" class=\"dataframe\">\n",
       "  <thead>\n",
       "    <tr style=\"text-align: right;\">\n",
       "      <th></th>\n",
       "      <th>Website</th>\n",
       "      <th>Product Name</th>\n",
       "      <th>Product Price</th>\n",
       "      <th>Product Rating</th>\n",
       "    </tr>\n",
       "  </thead>\n",
       "  <tbody>\n",
       "    <tr>\n",
       "      <th>0</th>\n",
       "      <td>Amazon</td>\n",
       "      <td>Sony Cyber-Shot DSC-W800 Digital Camera (Black)</td>\n",
       "      <td>170</td>\n",
       "      <td>220 ratings</td>\n",
       "    </tr>\n",
       "    <tr>\n",
       "      <th>1</th>\n",
       "      <td>Daraz</td>\n",
       "      <td>Sony DSC-W800 20.1 MP Digital Camera (Black)</td>\n",
       "      <td>25000</td>\n",
       "      <td>No Ratings</td>\n",
       "    </tr>\n",
       "  </tbody>\n",
       "</table>\n",
       "</div>"
      ],
      "text/plain": [
       "  Website                                     Product Name Product Price  \\\n",
       "0  Amazon  Sony Cyber-Shot DSC-W800 Digital Camera (Black)           170   \n",
       "1   Daraz     Sony DSC-W800 20.1 MP Digital Camera (Black)         25000   \n",
       "\n",
       "  Product Rating  \n",
       "0    220 ratings  \n",
       "1     No Ratings  "
      ]
     },
     "execution_count": 18,
     "metadata": {},
     "output_type": "execute_result"
    }
   ],
   "source": [
    "# As daraz product price is in string , hence it's converted to int before comparison with Amazon Product\n",
    "def convert_daraz_price(price_string):\n",
    "    # Remove commas, extract the numeric part, and convert to int\n",
    "    cleaned_price = ''.join(filter(str.isdigit, price_string))\n",
    "    return int(cleaned_price)  # Convert to int\n",
    "\n",
    "# Clean and convert Daraz prices\n",
    "df.loc[df['Website'] == 'Daraz', 'Product Price'] = df.loc[df['Website'] == 'Daraz', 'Product Price'].apply(convert_daraz_price)\n",
    "df"
   ]
  },
  {
   "cell_type": "code",
   "execution_count": 19,
   "id": "9b5479d7",
   "metadata": {},
   "outputs": [],
   "source": [
    "daraz_price_pkr = int(df.at[1, 'Product Price'])  # Convert to int"
   ]
  },
  {
   "cell_type": "code",
   "execution_count": 20,
   "id": "f72bca47",
   "metadata": {},
   "outputs": [
    {
     "name": "stdout",
     "output_type": "stream",
     "text": [
      "Daraz is more favorable.As its cheaper and take less money for delivery\n"
     ]
    }
   ],
   "source": [
    "if amazon_price_pkr < daraz_price_pkr:\n",
    "    print(\"Amazon is more favorable.\")\n",
    "elif daraz_price_pkr < amazon_price_pkr:\n",
    "    print(\"Daraz is more favorable.As its cheaper and take less money for delivery\")\n",
    "else:\n",
    "    print(\"Both websites offer the same price.\")"
   ]
  },
  {
   "cell_type": "markdown",
   "id": "7a7939e7",
   "metadata": {},
   "source": [
    "### Data Cleaning if there were 100's of products"
   ]
  },
  {
   "cell_type": "code",
   "execution_count": 21,
   "id": "dd37520d",
   "metadata": {},
   "outputs": [],
   "source": [
    "# Handle missing values (if any)\n",
    "df = df.fillna('N/A') "
   ]
  },
  {
   "cell_type": "code",
   "execution_count": 22,
   "id": "db4c0ef4",
   "metadata": {},
   "outputs": [],
   "source": [
    "# Remove duplicate entries if any \n",
    "df = df.drop_duplicates()"
   ]
  },
  {
   "cell_type": "code",
   "execution_count": 23,
   "id": "be5309c2",
   "metadata": {},
   "outputs": [
    {
     "data": {
      "text/html": [
       "<div>\n",
       "<style scoped>\n",
       "    .dataframe tbody tr th:only-of-type {\n",
       "        vertical-align: middle;\n",
       "    }\n",
       "\n",
       "    .dataframe tbody tr th {\n",
       "        vertical-align: top;\n",
       "    }\n",
       "\n",
       "    .dataframe thead th {\n",
       "        text-align: right;\n",
       "    }\n",
       "</style>\n",
       "<table border=\"1\" class=\"dataframe\">\n",
       "  <thead>\n",
       "    <tr style=\"text-align: right;\">\n",
       "      <th></th>\n",
       "      <th>Website</th>\n",
       "      <th>Product Name</th>\n",
       "      <th>Product Price</th>\n",
       "      <th>Product Rating</th>\n",
       "    </tr>\n",
       "  </thead>\n",
       "  <tbody>\n",
       "    <tr>\n",
       "      <th>0</th>\n",
       "      <td>Amazon</td>\n",
       "      <td>Sony Cyber-Shot DSC-W800 Digital Camera (Black)</td>\n",
       "      <td>170</td>\n",
       "      <td>220 ratings</td>\n",
       "    </tr>\n",
       "    <tr>\n",
       "      <th>1</th>\n",
       "      <td>Daraz</td>\n",
       "      <td>Sony DSC-W800 20.1 MP Digital Camera (Black)</td>\n",
       "      <td>25000</td>\n",
       "      <td>No Ratings</td>\n",
       "    </tr>\n",
       "  </tbody>\n",
       "</table>\n",
       "</div>"
      ],
      "text/plain": [
       "  Website                                     Product Name Product Price  \\\n",
       "0  Amazon  Sony Cyber-Shot DSC-W800 Digital Camera (Black)           170   \n",
       "1   Daraz     Sony DSC-W800 20.1 MP Digital Camera (Black)         25000   \n",
       "\n",
       "  Product Rating  \n",
       "0    220 ratings  \n",
       "1     No Ratings  "
      ]
     },
     "execution_count": 23,
     "metadata": {},
     "output_type": "execute_result"
    }
   ],
   "source": [
    "df"
   ]
  }
 ],
 "metadata": {
  "kernelspec": {
   "display_name": "Python 3 (ipykernel)",
   "language": "python",
   "name": "python3"
  },
  "language_info": {
   "codemirror_mode": {
    "name": "ipython",
    "version": 3
   },
   "file_extension": ".py",
   "mimetype": "text/x-python",
   "name": "python",
   "nbconvert_exporter": "python",
   "pygments_lexer": "ipython3",
   "version": "3.9.13"
  }
 },
 "nbformat": 4,
 "nbformat_minor": 5
}
